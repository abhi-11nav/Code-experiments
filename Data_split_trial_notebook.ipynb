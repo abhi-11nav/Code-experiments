{
  "nbformat": 4,
  "nbformat_minor": 0,
  "metadata": {
    "colab": {
      "name": "Data split trial notebook.ipynb",
      "provenance": [],
      "mount_file_id": "110cUbmk1bsdTjUesRyvMV2u5DoZ3xrVs",
      "authorship_tag": "ABX9TyMFgWpiLe2qopYzTa+jEnnE",
      "include_colab_link": true
    },
    "kernelspec": {
      "name": "python3",
      "display_name": "Python 3"
    },
    "language_info": {
      "name": "python"
    }
  },
  "cells": [
    {
      "cell_type": "markdown",
      "metadata": {
        "id": "view-in-github",
        "colab_type": "text"
      },
      "source": [
        "<a href=\"https://colab.research.google.com/github/abhi-11nav/Code-experiments/blob/main/Data_split_trial_notebook.ipynb\" target=\"_parent\"><img src=\"https://colab.research.google.com/assets/colab-badge.svg\" alt=\"Open In Colab\"/></a>"
      ]
    },
    {
      "cell_type": "code",
      "execution_count": 1,
      "metadata": {
        "colab": {
          "base_uri": "https://localhost:8080/"
        },
        "id": "Jn4QjPh-5UIm",
        "outputId": "0cd5cfa7-58c5-4bfc-e708-02875e62a639"
      },
      "outputs": [
        {
          "output_type": "stream",
          "name": "stdout",
          "text": [
            "Looking in indexes: https://pypi.org/simple, https://us-python.pkg.dev/colab-wheels/public/simple/\n",
            "Collecting split-folders\n",
            "  Downloading split_folders-0.5.1-py3-none-any.whl (8.4 kB)\n",
            "Installing collected packages: split-folders\n",
            "Successfully installed split-folders-0.5.1\n"
          ]
        }
      ],
      "source": [
        "  pip install split-folders"
      ]
    },
    {
      "cell_type": "markdown",
      "source": [
        ""
      ],
      "metadata": {
        "id": "_IHMKGyL9K8e"
      }
    },
    {
      "cell_type": "markdown",
      "source": [
        ""
      ],
      "metadata": {
        "id": "F5c-LYCz9K44"
      }
    },
    {
      "cell_type": "code",
      "source": [
        "import splitfolders\n",
        "from glob import glob"
      ],
      "metadata": {
        "id": "A5aavjaX5ZBN"
      },
      "execution_count": 11,
      "outputs": []
    },
    {
      "cell_type": "code",
      "source": [
        "data_path= \"/content/drive/MyDrive/Classification_images/natural_images\""
      ],
      "metadata": {
        "id": "QsIdK4mhq0mK"
      },
      "execution_count": 12,
      "outputs": []
    },
    {
      "cell_type": "code",
      "source": [
        "person_path = glob(data_path+\"/*\")[0]"
      ],
      "metadata": {
        "id": "qwvERPj3rL_z"
      },
      "execution_count": 32,
      "outputs": []
    },
    {
      "cell_type": "code",
      "source": [
        "person_path"
      ],
      "metadata": {
        "colab": {
          "base_uri": "https://localhost:8080/",
          "height": 37
        },
        "id": "xJNw0Hrf9qf5",
        "outputId": "6b38bc71-cf74-4bb1-b4c7-157b37eb571b"
      },
      "execution_count": 42,
      "outputs": [
        {
          "output_type": "execute_result",
          "data": {
            "text/plain": [
              "'/content/drive/MyDrive/Classification_images/natural_images/person'"
            ],
            "application/vnd.google.colaboratory.intrinsic+json": {
              "type": "string"
            }
          },
          "metadata": {},
          "execution_count": 42
        }
      ]
    },
    {
      "cell_type": "code",
      "source": [
        "import os\n",
        "\n",
        "data = os.listdir(source)"
      ],
      "metadata": {
        "id": "BRtytdF5tXz6"
      },
      "execution_count": 40,
      "outputs": []
    },
    {
      "cell_type": "code",
      "source": [
        "g"
      ],
      "metadata": {
        "id": "MM0X1fadA7pf"
      },
      "execution_count": 41,
      "outputs": []
    },
    {
      "cell_type": "code",
      "source": [
        "import shutil\n",
        "source = \"/content/drive/MyDrive/Classification_images/natural_images/train/fruit/\"\n",
        "destination = person_path+\"/\""
      ],
      "metadata": {
        "id": "lI32zyNtwPw0"
      },
      "execution_count": 43,
      "outputs": []
    },
    {
      "cell_type": "code",
      "source": [
        "for img in data:\n",
        "  shutil.move(source+img, destination)"
      ],
      "metadata": {
        "id": "M_Zih7jNwQxj"
      },
      "execution_count": 45,
      "outputs": []
    },
    {
      "cell_type": "code",
      "source": [
        "for x in glob(data_path+\"/*\"):\n",
        "  print(len(glob(x+\"/*\")))"
      ],
      "metadata": {
        "id": "WW67HjxwwlZ6",
        "colab": {
          "base_uri": "https://localhost:8080/"
        },
        "outputId": "18795877-10a8-41d4-f818-b287916aadb5"
      },
      "execution_count": 54,
      "outputs": [
        {
          "output_type": "stream",
          "name": "stdout",
          "text": [
            "1007\n",
            "729\n",
            "798\n",
            "968\n",
            "702\n",
            "853\n",
            "895\n",
            "2\n",
            "0\n"
          ]
        }
      ]
    },
    {
      "cell_type": "code",
      "source": [
        "glob(data_path+\"/*\")"
      ],
      "metadata": {
        "colab": {
          "base_uri": "https://localhost:8080/"
        },
        "id": "xj8XQHzNEsb-",
        "outputId": "3caf9214-fa66-424b-96cc-1bb66b35a617"
      },
      "execution_count": 59,
      "outputs": [
        {
          "output_type": "execute_result",
          "data": {
            "text/plain": [
              "['/content/drive/MyDrive/Classification_images/natural_images/person',\n",
              " '/content/drive/MyDrive/Classification_images/natural_images/airplane',\n",
              " '/content/drive/MyDrive/Classification_images/natural_images/motorbike',\n",
              " '/content/drive/MyDrive/Classification_images/natural_images/car',\n",
              " '/content/drive/MyDrive/Classification_images/natural_images/dog',\n",
              " '/content/drive/MyDrive/Classification_images/natural_images/flower',\n",
              " '/content/drive/MyDrive/Classification_images/natural_images/cat',\n",
              " '/content/drive/MyDrive/Classification_images/natural_images/train',\n",
              " '/content/drive/MyDrive/Classification_images/natural_images/test']"
            ]
          },
          "metadata": {},
          "execution_count": 59
        }
      ]
    },
    {
      "cell_type": "code",
      "source": [
        "glob(data_path)"
      ],
      "metadata": {
        "id": "Kc3NjaaqwpYh",
        "colab": {
          "base_uri": "https://localhost:8080/"
        },
        "outputId": "69fec818-968c-4b86-e2b6-38d83c0557b6"
      },
      "execution_count": 55,
      "outputs": [
        {
          "output_type": "execute_result",
          "data": {
            "text/plain": [
              "['/content/drive/MyDrive/Classification_images/natural_images']"
            ]
          },
          "metadata": {},
          "execution_count": 55
        }
      ]
    },
    {
      "cell_type": "code",
      "source": [
        "for x in glob(\"/content/drive/MyDrive/Classification_images/data/natural_images/*\"):\n",
        "  print(len(x+\"/*\"))"
      ],
      "metadata": {
        "colab": {
          "base_uri": "https://localhost:8080/"
        },
        "id": "cqDPiemH-GuM",
        "outputId": "3f6a2456-e25b-4416-bdaf-f8642b34ce4b"
      },
      "execution_count": 58,
      "outputs": [
        {
          "output_type": "stream",
          "name": "stdout",
          "text": [
            "72\n",
            "70\n",
            "73\n",
            "70\n",
            "76\n",
            "70\n",
            "75\n",
            "73\n"
          ]
        }
      ]
    },
    {
      "cell_type": "code",
      "source": [
        ""
      ],
      "metadata": {
        "id": "AUGYPCAjBuqI"
      },
      "execution_count": null,
      "outputs": []
    }
  ]
}